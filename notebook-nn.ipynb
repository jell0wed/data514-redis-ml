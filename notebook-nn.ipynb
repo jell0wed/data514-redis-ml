{
 "cells": [
  {
   "attachments": {},
   "cell_type": "markdown",
   "metadata": {},
   "source": [
    "# Redis as a high-performance machine learning database\n",
    "## NLP : Identifying toxic comments"
   ]
  },
  {
   "attachments": {},
   "cell_type": "markdown",
   "metadata": {},
   "source": [
    "**Research question:** can Redis serve as a real-time database for both training and testing purposes when training a neural network in production? How could we get Redis to act as the back-end database serving training examples when training our model.\n",
    "\n",
    "**IMPORTANT**: Make sure to have clone the repo, started a new Redis database instance locally before running this notebook. Refer to the `README.md` for further machine setup instructions."
   ]
  },
  {
   "cell_type": "code",
   "execution_count": 178,
   "metadata": {},
   "outputs": [],
   "source": [
    "import pandas as pd\n",
    "import redis\n",
    "from matplotlib import pyplot as plt\n",
    "import timeit"
   ]
  },
  {
   "attachments": {},
   "cell_type": "markdown",
   "metadata": {},
   "source": [
    "## Part 2: Neural Network implementation"
   ]
  },
  {
   "attachments": {},
   "cell_type": "markdown",
   "metadata": {},
   "source": [
    "Redis is meant to be used in multiple ways and is basically a large-scale, distributed and high-performance key-value datastore. It also supports indexing and storage of JSON document, which we'll be using here to store both our **training** and **testing** datasets. \n",
    "\n",
    "According to our architecture, the `train:*` index prefix contains all the training example in JSON format and the `test:*` contains all the testing examples.\n",
    "\n",
    "Let's make sure the database is filled up and ready to go by checking the dbsize(). \n",
    "\n",
    "**If the number printed below is zero, make sure you ran the `notebook-dataprep.ipynb` notebook and the `python ./fill_db.py` command. Prior to executing this notebook**."
   ]
  },
  {
   "cell_type": "code",
   "execution_count": 179,
   "metadata": {},
   "outputs": [
    {
     "data": {
      "text/plain": [
       "223544"
      ]
     },
     "execution_count": 179,
     "metadata": {},
     "output_type": "execute_result"
    }
   ],
   "source": [
    "# connect to local redis database\n",
    "r = redis.Redis(host='localhost', port=6379, decode_responses=True)\n",
    "\n",
    "# checking to make sure every entries was inserted into database\n",
    "r.dbsize()"
   ]
  },
  {
   "attachments": {},
   "cell_type": "markdown",
   "metadata": {},
   "source": [
    "Now that we have the training and testing dataset into our Redis database, we'll define our neural network.\n",
    "\n",
    "**Initializing the embeddings and tokenizer**:\n",
    "\n",
    "We'll make sure of the `torchtext` python package which provides an out-of-the-box sentence tokenizer as well as the GloVe embedding. For this project, we decided to use the GloVe 840B embeddings of 300 dimensions for each words. Below we initialize both the tokenizer and the glove embeddings, running this cell might take some as it needs to fetch the embeddings remotely."
   ]
  },
  {
   "cell_type": "code",
   "execution_count": 180,
   "metadata": {},
   "outputs": [],
   "source": [
    "from torchtext.data import get_tokenizer\n",
    "from torchtext.vocab import GloVe\n",
    "\n",
    "tokenizer = get_tokenizer(\"basic_english\")\n",
    "global_vectors = GloVe(name='840B', dim=300)"
   ]
  },
  {
   "attachments": {},
   "cell_type": "markdown",
   "metadata": {},
   "source": [
    "We'll write our own torch `Dataset` and `DataLoader` definition to be used in conjunction with Pytorch. More specifically, this dataset and dataloader are going to query the Redis database to return both our testing and training data in real-time.\n",
    "\n",
    "The dataset takes care of returning elements in our database one-by-one in an iterator fashion. \n",
    "The dataloader takes in the `collate_fn` as a parameter which `vectorize_batch` is passed in in order to encode the comment text into GloVe embeddings.\n",
    "\n",
    "This way, Redis can act as the backend database for training the neural network using real time data."
   ]
  },
  {
   "cell_type": "code",
   "execution_count": null,
   "metadata": {},
   "outputs": [],
   "source": [
    "import torch\n",
    "import torch.nn\n",
    "from torch.utils.data import Dataset, DataLoader\n",
    "from torchtext.data.functional import to_map_style_dataset\n",
    "import sys\n",
    "\n",
    "MAX_COMMENT_LENGTH = 50\n",
    "EMBED_LEN = 300\n",
    "NORMAL_CLASS = \"normal\"\n",
    "TARGET_CLASSES = [NORMAL_CLASS, \"toxic\", \"obscene\", \"threat\", \"insult\", \"identity_hate\"]\n",
    "\n",
    "def get_target_class(obj, idx):\n",
    "    labels = {attr: obj[attr] for attr in TARGET_CLASSES}\n",
    "    return next((k for k, v in labels.items() if v == 1), None)\n",
    "\n",
    "class RedisDataset(Dataset):\n",
    "    def __init__(self, redis, redis_key_prefix):\n",
    "        self.redis = redis\n",
    "        self.length = len(self.redis.keys(redis_key_prefix + \"*\"))\n",
    "        self.redis_key_prefix = redis_key_prefix\n",
    "\n",
    "    def __len__(self):\n",
    "        return self.length - 1\n",
    "        \n",
    "    def __getitem__(self, idx):\n",
    "        key = self.redis_key_prefix + \"%d\" % idx\n",
    "        obj = r.json().get(key)\n",
    "        if obj is None:\n",
    "            raise IndexError()\n",
    "        label = get_target_class(obj, key)\n",
    "        if label is None:\n",
    "            label = NORMAL_CLASS\n",
    "        return obj[\"comment_text\"], TARGET_CLASSES.index(label)"
   ]
  },
  {
   "cell_type": "code",
   "execution_count": 181,
   "metadata": {},
   "outputs": [
    {
     "name": "stdout",
     "output_type": "stream",
     "text": [
      "training db dataset length is 159568\n",
      "testing db dataset length is 63976\n"
     ]
    }
   ],
   "source": [
    "train_dataset, test_dataset = RedisDataset(r, \"train:\"), RedisDataset(r, \"test:\")\n",
    "train_dataset, test_dataset = to_map_style_dataset(train_dataset), to_map_style_dataset(test_dataset)\n",
    "print(\"training db dataset length is\", len(train_dataset))\n",
    "print(\"testing db dataset length is\", len(test_dataset))"
   ]
  },
  {
   "attachments": {},
   "cell_type": "markdown",
   "metadata": {},
   "source": [
    "We not create the pytorch DataLoader for our custom Redis-backed dataset. The `vectorize_batch` function takes care of tokenzing and embedding the `comment_text` into the GloVe embeddings up to a `MAX_LENGTH` and pads it with empty string to fit the length of 0 in the case where the comment text is too short. "
   ]
  },
  {
   "cell_type": "code",
   "execution_count": 182,
   "metadata": {},
   "outputs": [
    {
     "name": "stdout",
     "output_type": "stream",
     "text": [
      "tensor([0, 0, 0,  ..., 0, 0, 1])\n"
     ]
    }
   ],
   "source": [
    "def vectorize_batch(batch):\n",
    "    X, Y = list(zip(*batch))\n",
    "    X = [tokenizer(x) for x in X]\n",
    "    X = [tokens+[\"\"] * (MAX_COMMENT_LENGTH-len(tokens)) if len(tokens) < MAX_COMMENT_LENGTH else tokens[:MAX_COMMENT_LENGTH] for tokens in X]\n",
    "    X_tensor = torch.zeros(len(batch), MAX_COMMENT_LENGTH, EMBED_LEN)\n",
    "    for i, tokens in enumerate(X):\n",
    "        X_tensor[i] = global_vectors.get_vecs_by_tokens(tokens)\n",
    "    return X_tensor.reshape(len(batch), -1), torch.tensor(Y)\n",
    "\n",
    "train_loader, test_loader = DataLoader(train_dataset, batch_size=1024, collate_fn=vectorize_batch), DataLoader(test_dataset, batch_size=1024, collate_fn=vectorize_batch)\n",
    "for X, Y in train_loader:\n",
    "    print(Y)\n",
    "    break"
   ]
  },
  {
   "attachments": {},
   "cell_type": "markdown",
   "metadata": {},
   "source": [
    "Below we define our `ToxicCommentClassifier` which is a simple Pytorch neural network. It consists of 4 linear layers of 256, 128, 64 and 6 output units. We use the ReLU activation function after each layer."
   ]
  },
  {
   "cell_type": "code",
   "execution_count": null,
   "metadata": {},
   "outputs": [],
   "source": [
    "from tqdm import tqdm\n",
    "from sklearn.metrics import accuracy_score\n",
    "from torch import nn\n",
    "from torch.optim import Adam\n",
    "from torch.nn import functional as F\n",
    "\n",
    "class ToxicCommentClassifier(torch.nn.Module):\n",
    "    def __init__(self):\n",
    "        super(ToxicCommentClassifier, self).__init__()\n",
    "        self.seq = nn.Sequential(\n",
    "            nn.Linear(MAX_COMMENT_LENGTH*EMBED_LEN, 256),\n",
    "            nn.ReLU(),\n",
    "            \n",
    "            nn.Linear(256, 128),\n",
    "            nn.ReLU(),\n",
    "\n",
    "            nn.Linear(128, 64),\n",
    "            nn.ReLU(),\n",
    "            \n",
    "            nn.Linear(64, len(TARGET_CLASSES))\n",
    "        )\n",
    "\n",
    "    def forward(self, X_batch):\n",
    "        return self.seq(X_batch)"
   ]
  },
  {
   "cell_type": "code",
   "execution_count": 183,
   "metadata": {},
   "outputs": [],
   "source": [
    "def calculate_loss_and_accuracy(model, loss_fn, val_loader):\n",
    "    with torch.no_grad():\n",
    "        Y_processed, Y_preds, losses = [],[],[]\n",
    "        for X, Y in val_loader:\n",
    "            preds = model(X)\n",
    "            loss = loss_fn(preds, Y)\n",
    "            losses.append(loss.item())\n",
    "\n",
    "            Y_processed.append(Y)\n",
    "            Y_preds.append(preds.argmax(dim=-1))\n",
    "\n",
    "        Y_processed = torch.cat(Y_processed)\n",
    "        Y_preds = torch.cat(Y_preds)\n",
    "\n",
    "        print(\"Validation loss\", torch.tensor(losses).mean())\n",
    "        print(\"Validation accuracy\", accuracy_score(Y_processed.detach().numpy(), Y_preds.detach().numpy()))\n",
    "        \n",
    "losses_graph = []\n",
    "def train_model(model, loss_fn, optimizer, train_loader, val_loader, epochs=25):\n",
    "    for i in range(1, epochs+1):\n",
    "        print(\"Epoch #%d\" % i)\n",
    "        losses = []\n",
    "        for X, Y in tqdm(train_loader): # for each batch\n",
    "            Y_preds = model(X) # execute model\n",
    "\n",
    "            loss = loss_fn(Y_preds, Y) # evaluate loss function\n",
    "            losses.append(loss.item())\n",
    "\n",
    "            optimizer.zero_grad()\n",
    "            loss.backward() # backward pass\n",
    "            optimizer.step()\n",
    "\n",
    "        losses_graph.append(torch.tensor(losses).mean())\n",
    "        print(\"Train Loss : {:.3f}\".format(torch.tensor(losses).mean()))"
   ]
  },
  {
   "cell_type": "code",
   "execution_count": 184,
   "metadata": {},
   "outputs": [
    {
     "name": "stdout",
     "output_type": "stream",
     "text": [
      "Epoch #1\n"
     ]
    },
    {
     "name": "stderr",
     "output_type": "stream",
     "text": [
      "100%|██████████| 156/156 [00:46<00:00,  3.34it/s]\n"
     ]
    },
    {
     "name": "stdout",
     "output_type": "stream",
     "text": [
      "Train Loss : 0.268\n",
      "Epoch #2\n"
     ]
    },
    {
     "name": "stderr",
     "output_type": "stream",
     "text": [
      "100%|██████████| 156/156 [00:46<00:00,  3.38it/s]\n"
     ]
    },
    {
     "name": "stdout",
     "output_type": "stream",
     "text": [
      "Train Loss : 0.149\n",
      "Epoch #3\n"
     ]
    },
    {
     "name": "stderr",
     "output_type": "stream",
     "text": [
      "100%|██████████| 156/156 [00:43<00:00,  3.57it/s]\n"
     ]
    },
    {
     "name": "stdout",
     "output_type": "stream",
     "text": [
      "Train Loss : 0.121\n",
      "Epoch #4\n"
     ]
    },
    {
     "name": "stderr",
     "output_type": "stream",
     "text": [
      "100%|██████████| 156/156 [00:43<00:00,  3.55it/s]\n"
     ]
    },
    {
     "name": "stdout",
     "output_type": "stream",
     "text": [
      "Train Loss : 0.097\n",
      "Epoch #5\n"
     ]
    },
    {
     "name": "stderr",
     "output_type": "stream",
     "text": [
      "100%|██████████| 156/156 [00:44<00:00,  3.47it/s]\n"
     ]
    },
    {
     "name": "stdout",
     "output_type": "stream",
     "text": [
      "Train Loss : 0.082\n",
      "Epoch #6\n"
     ]
    },
    {
     "name": "stderr",
     "output_type": "stream",
     "text": [
      "100%|██████████| 156/156 [00:43<00:00,  3.55it/s]\n"
     ]
    },
    {
     "name": "stdout",
     "output_type": "stream",
     "text": [
      "Train Loss : 0.068\n",
      "Epoch #7\n"
     ]
    },
    {
     "name": "stderr",
     "output_type": "stream",
     "text": [
      "100%|██████████| 156/156 [00:44<00:00,  3.53it/s]\n"
     ]
    },
    {
     "name": "stdout",
     "output_type": "stream",
     "text": [
      "Train Loss : 0.056\n",
      "Epoch #8\n"
     ]
    },
    {
     "name": "stderr",
     "output_type": "stream",
     "text": [
      "100%|██████████| 156/156 [00:43<00:00,  3.55it/s]\n"
     ]
    },
    {
     "name": "stdout",
     "output_type": "stream",
     "text": [
      "Train Loss : 0.043\n",
      "Epoch #9\n"
     ]
    },
    {
     "name": "stderr",
     "output_type": "stream",
     "text": [
      "100%|██████████| 156/156 [00:44<00:00,  3.54it/s]\n"
     ]
    },
    {
     "name": "stdout",
     "output_type": "stream",
     "text": [
      "Train Loss : 0.031\n",
      "Epoch #10\n"
     ]
    },
    {
     "name": "stderr",
     "output_type": "stream",
     "text": [
      "100%|██████████| 156/156 [00:45<00:00,  3.46it/s]"
     ]
    },
    {
     "name": "stdout",
     "output_type": "stream",
     "text": [
      "Train Loss : 0.031\n"
     ]
    },
    {
     "name": "stderr",
     "output_type": "stream",
     "text": [
      "\n"
     ]
    }
   ],
   "source": [
    "epochs = 10\n",
    "learning_rate = 1e-3\n",
    "\n",
    "loss_fn = nn.CrossEntropyLoss()\n",
    "toxic_classifier = ToxicCommentClassifier()\n",
    "optimizer = Adam(toxic_classifier.parameters(), lr=learning_rate)\n",
    "\n",
    "train_model(toxic_classifier, loss_fn, optimizer, train_loader, test_loader, epochs)"
   ]
  },
  {
   "cell_type": "code",
   "execution_count": 185,
   "metadata": {},
   "outputs": [
    {
     "name": "stdout",
     "output_type": "stream",
     "text": [
      "Test Accuracy : 0.8259503563836439\n",
      "\n",
      "Classification Report : \n",
      "               precision    recall  f1-score   support\n",
      "\n",
      "       normal       0.90      0.90      0.90     57733\n",
      "        toxic       0.10      0.10      0.10      6090\n",
      "      obscene       0.02      0.02      0.02        65\n",
      "       threat       0.00      0.00      0.00         6\n",
      "       insult       0.00      0.00      0.00        68\n",
      "identity_hate       0.00      0.00      0.00        14\n",
      "\n",
      "     accuracy                           0.83     63976\n",
      "    macro avg       0.17      0.17      0.17     63976\n",
      " weighted avg       0.82      0.83      0.83     63976\n",
      "\n",
      "\n",
      "Confusion Matrix : \n",
      "[[52247  5364    52     0    61     9]\n",
      " [ 5490   593     3     0     4     0]\n",
      " [   60     3     1     0     1     0]\n",
      " [    6     0     0     0     0     0]\n",
      " [   61     7     0     0     0     0]\n",
      " [   11     3     0     0     0     0]]\n"
     ]
    },
    {
     "name": "stderr",
     "output_type": "stream",
     "text": [
      "/home/jepoisso/.local/lib/python3.10/site-packages/sklearn/metrics/_classification.py:1344: UndefinedMetricWarning: Precision and F-score are ill-defined and being set to 0.0 in labels with no predicted samples. Use `zero_division` parameter to control this behavior.\n",
      "  _warn_prf(average, modifier, msg_start, len(result))\n",
      "/home/jepoisso/.local/lib/python3.10/site-packages/sklearn/metrics/_classification.py:1344: UndefinedMetricWarning: Precision and F-score are ill-defined and being set to 0.0 in labels with no predicted samples. Use `zero_division` parameter to control this behavior.\n",
      "  _warn_prf(average, modifier, msg_start, len(result))\n",
      "/home/jepoisso/.local/lib/python3.10/site-packages/sklearn/metrics/_classification.py:1344: UndefinedMetricWarning: Precision and F-score are ill-defined and being set to 0.0 in labels with no predicted samples. Use `zero_division` parameter to control this behavior.\n",
      "  _warn_prf(average, modifier, msg_start, len(result))\n"
     ]
    }
   ],
   "source": [
    "def do_prediction(model, loader):\n",
    "    Y_shuffled, Y_preds = [], []\n",
    "    for X, Y in loader:\n",
    "        preds = model(X)\n",
    "        Y_preds.append(preds)\n",
    "        Y_shuffled.append(Y)\n",
    "    Y_preds, Y_shuffled = torch.cat(Y_preds), torch.cat(Y_shuffled)\n",
    "\n",
    "    return Y_shuffled.detach().numpy(), F.softmax(Y_preds, dim=-1).argmax(dim=-1).detach().numpy()\n",
    "\n",
    "Y_actual, Y_preds = do_prediction(toxic_classifier, test_loader)\n",
    "\n",
    "from sklearn.metrics import accuracy_score, classification_report, confusion_matrix\n",
    "print(\"Test Accuracy : {}\".format(accuracy_score(Y_actual, Y_preds)))\n",
    "print(\"\\nClassification Report : \")\n",
    "print(classification_report(Y_actual, Y_preds, target_names=TARGET_CLASSES))\n",
    "print(\"\\nConfusion Matrix : \")\n",
    "print(confusion_matrix(Y_actual, Y_preds))"
   ]
  },
  {
   "cell_type": "code",
   "execution_count": 186,
   "metadata": {},
   "outputs": [
    {
     "name": "stdout",
     "output_type": "stream",
     "text": [
      "Sentence `wow this project was great! such a great idea i have a dog named paul` is most likely normal\n",
      "Sentence `paul is good bad dog but he always comments negative stuff` is most likely normal\n",
      "Sentence `this is a lame project` is most likely toxic\n",
      "Sentence `i cant believe you spent that much time on this stinky project` is most likely toxic\n"
     ]
    },
    {
     "data": {
      "text/plain": [
       "'toxic'"
      ]
     },
     "execution_count": 186,
     "metadata": {},
     "output_type": "execute_result"
    }
   ],
   "source": [
    "def do_prediction(model, text):\n",
    "    text_tokens = tokenizer(text)\n",
    "    text_tokens = text_tokens[:MAX_COMMENT_LENGTH]\n",
    "    X_tensor = torch.zeros(1, MAX_COMMENT_LENGTH, EMBED_LEN)\n",
    "    if len(text_tokens) < MAX_COMMENT_LENGTH:\n",
    "        text_tokens = text_tokens + ([\"\"] * (MAX_COMMENT_LENGTH - len(text_tokens)))\n",
    "    X_tensor[0] = global_vectors.get_vecs_by_tokens(text_tokens)\n",
    "    preds = model(X_tensor.reshape(1, -1))\n",
    "    pred_class = TARGET_CLASSES[(F.softmax(preds, dim=-1).argmax(dim=-1).detach().numpy())[0]]\n",
    "    print(\"Sentence `%s` is most likely\" % text, pred_class)\n",
    "    return pred_class\n",
    "\n",
    "do_prediction(toxic_classifier, \"wow this project was great! such a great idea i have a dog named paul\")\n",
    "do_prediction(toxic_classifier, \"paul is good bad dog but he always comments negative stuff\")\n",
    "do_prediction(toxic_classifier, \"this is a lame project\")\n",
    "do_prediction(toxic_classifier, \"i cant believe you spent that much time on this stinky project\")\n"
   ]
  },
  {
   "cell_type": "code",
   "execution_count": 187,
   "metadata": {},
   "outputs": [
    {
     "data": {
      "image/png": "[encoded data removed]",
      "text/plain": [
       "<Figure size 640x480 with 1 Axes>"
      ]
     },
     "metadata": {},
     "output_type": "display_data"
    }
   ],
   "source": [
    "import matplotlib.pyplot as plt\n",
    "losses = list(map(lambda t: t.detach().item(), losses_graph))\n",
    "plt.plot(losses)\n",
    "plt.ylabel(\"loss\")\n",
    "plt.xlabel(\"epoch\")\n",
    "plt.title(\"Loss over training epochs\")\n",
    "plt.show()"
   ]
  },
  {
   "attachments": {},
   "cell_type": "markdown",
   "metadata": {},
   "source": [
    "Now we can use the same `RedisDataset` to process unlabeled data in conjunction with Pytorch's DataLoader, similar to what we have done above for training and testing the model. Predictions are going to be stored at the same key for which it was returned.\n",
    "\n",
    "Each entry in the `unlabeled:` index will be retrieved, passed through the model, and moved to the `label:*` index with its prediction."
   ]
  },
  {
   "cell_type": "code",
   "execution_count": 188,
   "metadata": {},
   "outputs": [
    {
     "data": {
      "text/plain": [
       "True"
      ]
     },
     "execution_count": 188,
     "metadata": {},
     "output_type": "execute_result"
    }
   ],
   "source": [
    "from redis.commands.json.path import Path\n",
    "test_example_0 = {\n",
    "    'id': \"jepoisso-0\",\n",
    "    'comment_text': \"i love this project\",\n",
    "    'normal': 0,\n",
    "    'toxic': 0,\n",
    "    'severe_toxic': 0,\n",
    "    'obscene': 0,\n",
    "    'threat': 0,\n",
    "    'insult': 0,\n",
    "    'identity_hate': 0\n",
    "}\n",
    "r.json().set(\"unlabeled:0\", Path.root_path(), test_example_0)\n",
    "\n",
    "test_example_1 = {\n",
    "    'id': \"jepoisso-1\",\n",
    "    'comment_text': \"you are dumb\",\n",
    "    'normal': 0,\n",
    "    'toxic': 0,\n",
    "    'obscene': 0,\n",
    "    'threat': 0,\n",
    "    'insult': 0,\n",
    "    'identity_hate': 0\n",
    "}\n",
    "r.json().set(\"unlabeled:1\", Path.root_path(), test_example_1)\n",
    "\n",
    "from redis.commands.json.path import Path\n",
    "test_example_2 = {\n",
    "    'id': \"jepoisso-2\",\n",
    "    'comment_text': \"wow this is nice\",\n",
    "    'normal': 0,\n",
    "    'toxic': 0,\n",
    "    'obscene': 0,\n",
    "    'threat': 0,\n",
    "    'insult': 0,\n",
    "    'identity_hate': 0\n",
    "}\n",
    "r.json().set(\"unlabeled:2\", Path.root_path(), test_example_2)\n",
    "\n",
    "from redis.commands.json.path import Path\n",
    "test_example_3 = {\n",
    "    'id': \"jepoisso-3\",\n",
    "    'comment_text': \"this is great\",\n",
    "    'normal': 0,\n",
    "    'toxic': 0,\n",
    "    'obscene': 0,\n",
    "    'threat': 0,\n",
    "    'insult': 0,\n",
    "    'identity_hate': 0\n",
    "}\n",
    "r.json().set(\"unlabeled:3\", Path.root_path(), test_example_3)"
   ]
  },
  {
   "cell_type": "code",
   "execution_count": 189,
   "metadata": {},
   "outputs": [
    {
     "name": "stdout",
     "output_type": "stream",
     "text": [
      "normal\n",
      "toxic\n",
      "normal\n",
      "normal\n"
     ]
    }
   ],
   "source": [
    "last_idx = len(r.keys(\"labeled:*\"))\n",
    "def process_unlabeled(model, loader):\n",
    "    for X, Y in loader:\n",
    "        preds = model(X)\n",
    "        predicted_labels_idx = F.softmax(preds, dim=-1).argmax(dim=-1).detach().numpy().item()\n",
    "        predicted_label = TARGET_CLASSES[predicted_labels_idx]\n",
    "        print(predicted_label)\n",
    "\n",
    "unlabeled_dataset = RedisDataset(r, \"unlabeled:\")\n",
    "unlabeled_dataset = to_map_style_dataset(unlabeled_dataset)\n",
    "unlabeled_loader = DataLoader(unlabeled_dataset, batch_size=1, collate_fn=vectorize_batch)\n",
    "\n",
    "process_unlabeled(toxic_classifier, unlabeled_loader)"
   ]
  }
 ],
 "metadata": {
  "kernelspec": {
   "display_name": "Python 3 (ipykernel)",
   "language": "python",
   "name": "python3"
  },
  "language_info": {
   "codemirror_mode": {
    "name": "ipython",
    "version": 3
   },
   "file_extension": ".py",
   "mimetype": "text/x-python",
   "name": "python",
   "nbconvert_exporter": "python",
   "pygments_lexer": "ipython3",
   "version": "3.10.6"
  }
 },
 "nbformat": 4,
 "nbformat_minor": 4
}
